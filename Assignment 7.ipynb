{
 "cells": [
  {
   "cell_type": "markdown",
   "id": "0f55e3ce",
   "metadata": {},
   "source": [
    "Assignment 7 -  Machine Learning"
   ]
  },
  {
   "cell_type": "markdown",
   "id": "55501b50",
   "metadata": {},
   "source": [
    "Anju Ann Paul"
   ]
  },
  {
   "cell_type": "code",
   "execution_count": 293,
   "id": "4ea06aec",
   "metadata": {},
   "outputs": [],
   "source": [
    "import pandas as pd\n",
    "import matplotlib.pyplot as plt\n",
    "import numpy as np"
   ]
  },
  {
   "cell_type": "code",
   "execution_count": 294,
   "id": "0070c5d9",
   "metadata": {},
   "outputs": [],
   "source": [
    "from sklearn import datasets, linear_model  \n",
    "from sklearn.metrics import mean_squared_error, r2_score"
   ]
  },
  {
   "cell_type": "code",
   "execution_count": 295,
   "id": "24fdbbec",
   "metadata": {},
   "outputs": [],
   "source": [
    "df = datasets.load_diabetes(as_frame=True) "
   ]
  },
  {
   "cell_type": "code",
   "execution_count": 296,
   "id": "3f724b9d",
   "metadata": {},
   "outputs": [],
   "source": [
    "features_df = df.data"
   ]
  },
  {
   "cell_type": "code",
   "execution_count": 297,
   "id": "ce8eb0ef",
   "metadata": {},
   "outputs": [],
   "source": [
    "target_df = df.target"
   ]
  },
  {
   "cell_type": "code",
   "execution_count": 298,
   "id": "f1363a26",
   "metadata": {},
   "outputs": [
    {
     "name": "stdout",
     "output_type": "stream",
     "text": [
      ".. _diabetes_dataset:\n",
      "\n",
      "Diabetes dataset\n",
      "----------------\n",
      "\n",
      "Ten baseline variables, age, sex, body mass index, average blood\n",
      "pressure, and six blood serum measurements were obtained for each of n =\n",
      "442 diabetes patients, as well as the response of interest, a\n",
      "quantitative measure of disease progression one year after baseline.\n",
      "\n",
      "**Data Set Characteristics:**\n",
      "\n",
      "  :Number of Instances: 442\n",
      "\n",
      "  :Number of Attributes: First 10 columns are numeric predictive values\n",
      "\n",
      "  :Target: Column 11 is a quantitative measure of disease progression one year after baseline\n",
      "\n",
      "  :Attribute Information:\n",
      "      - age     age in years\n",
      "      - sex\n",
      "      - bmi     body mass index\n",
      "      - bp      average blood pressure\n",
      "      - s1      tc, total serum cholesterol\n",
      "      - s2      ldl, low-density lipoproteins\n",
      "      - s3      hdl, high-density lipoproteins\n",
      "      - s4      tch, total cholesterol / HDL\n",
      "      - s5      ltg, possibly log of serum triglycerides level\n",
      "      - s6      glu, blood sugar level\n",
      "\n",
      "Note: Each of these 10 feature variables have been mean centered and scaled by the standard deviation times `n_samples` (i.e. the sum of squares of each column totals 1).\n",
      "\n",
      "Source URL:\n",
      "https://www4.stat.ncsu.edu/~boos/var.select/diabetes.html\n",
      "\n",
      "For more information see:\n",
      "Bradley Efron, Trevor Hastie, Iain Johnstone and Robert Tibshirani (2004) \"Least Angle Regression,\" Annals of Statistics (with discussion), 407-499.\n",
      "(https://web.stanford.edu/~hastie/Papers/LARS/LeastAngle_2002.pdf)\n"
     ]
    }
   ],
   "source": [
    "print(df.DESCR)"
   ]
  },
  {
   "cell_type": "code",
   "execution_count": 299,
   "id": "9e3e1e10",
   "metadata": {},
   "outputs": [
    {
     "data": {
      "text/html": [
       "<div>\n",
       "<style scoped>\n",
       "    .dataframe tbody tr th:only-of-type {\n",
       "        vertical-align: middle;\n",
       "    }\n",
       "\n",
       "    .dataframe tbody tr th {\n",
       "        vertical-align: top;\n",
       "    }\n",
       "\n",
       "    .dataframe thead th {\n",
       "        text-align: right;\n",
       "    }\n",
       "</style>\n",
       "<table border=\"1\" class=\"dataframe\">\n",
       "  <thead>\n",
       "    <tr style=\"text-align: right;\">\n",
       "      <th></th>\n",
       "      <th>age</th>\n",
       "      <th>sex</th>\n",
       "      <th>bmi</th>\n",
       "      <th>bp</th>\n",
       "      <th>s1</th>\n",
       "      <th>s2</th>\n",
       "      <th>s3</th>\n",
       "      <th>s4</th>\n",
       "      <th>s5</th>\n",
       "      <th>s6</th>\n",
       "    </tr>\n",
       "  </thead>\n",
       "  <tbody>\n",
       "    <tr>\n",
       "      <th>0</th>\n",
       "      <td>0.038076</td>\n",
       "      <td>0.050680</td>\n",
       "      <td>0.061696</td>\n",
       "      <td>0.021872</td>\n",
       "      <td>-0.044223</td>\n",
       "      <td>-0.034821</td>\n",
       "      <td>-0.043401</td>\n",
       "      <td>-0.002592</td>\n",
       "      <td>0.019908</td>\n",
       "      <td>-0.017646</td>\n",
       "    </tr>\n",
       "    <tr>\n",
       "      <th>1</th>\n",
       "      <td>-0.001882</td>\n",
       "      <td>-0.044642</td>\n",
       "      <td>-0.051474</td>\n",
       "      <td>-0.026328</td>\n",
       "      <td>-0.008449</td>\n",
       "      <td>-0.019163</td>\n",
       "      <td>0.074412</td>\n",
       "      <td>-0.039493</td>\n",
       "      <td>-0.068330</td>\n",
       "      <td>-0.092204</td>\n",
       "    </tr>\n",
       "    <tr>\n",
       "      <th>2</th>\n",
       "      <td>0.085299</td>\n",
       "      <td>0.050680</td>\n",
       "      <td>0.044451</td>\n",
       "      <td>-0.005671</td>\n",
       "      <td>-0.045599</td>\n",
       "      <td>-0.034194</td>\n",
       "      <td>-0.032356</td>\n",
       "      <td>-0.002592</td>\n",
       "      <td>0.002864</td>\n",
       "      <td>-0.025930</td>\n",
       "    </tr>\n",
       "    <tr>\n",
       "      <th>3</th>\n",
       "      <td>-0.089063</td>\n",
       "      <td>-0.044642</td>\n",
       "      <td>-0.011595</td>\n",
       "      <td>-0.036656</td>\n",
       "      <td>0.012191</td>\n",
       "      <td>0.024991</td>\n",
       "      <td>-0.036038</td>\n",
       "      <td>0.034309</td>\n",
       "      <td>0.022692</td>\n",
       "      <td>-0.009362</td>\n",
       "    </tr>\n",
       "    <tr>\n",
       "      <th>4</th>\n",
       "      <td>0.005383</td>\n",
       "      <td>-0.044642</td>\n",
       "      <td>-0.036385</td>\n",
       "      <td>0.021872</td>\n",
       "      <td>0.003935</td>\n",
       "      <td>0.015596</td>\n",
       "      <td>0.008142</td>\n",
       "      <td>-0.002592</td>\n",
       "      <td>-0.031991</td>\n",
       "      <td>-0.046641</td>\n",
       "    </tr>\n",
       "    <tr>\n",
       "      <th>...</th>\n",
       "      <td>...</td>\n",
       "      <td>...</td>\n",
       "      <td>...</td>\n",
       "      <td>...</td>\n",
       "      <td>...</td>\n",
       "      <td>...</td>\n",
       "      <td>...</td>\n",
       "      <td>...</td>\n",
       "      <td>...</td>\n",
       "      <td>...</td>\n",
       "    </tr>\n",
       "    <tr>\n",
       "      <th>437</th>\n",
       "      <td>0.041708</td>\n",
       "      <td>0.050680</td>\n",
       "      <td>0.019662</td>\n",
       "      <td>0.059744</td>\n",
       "      <td>-0.005697</td>\n",
       "      <td>-0.002566</td>\n",
       "      <td>-0.028674</td>\n",
       "      <td>-0.002592</td>\n",
       "      <td>0.031193</td>\n",
       "      <td>0.007207</td>\n",
       "    </tr>\n",
       "    <tr>\n",
       "      <th>438</th>\n",
       "      <td>-0.005515</td>\n",
       "      <td>0.050680</td>\n",
       "      <td>-0.015906</td>\n",
       "      <td>-0.067642</td>\n",
       "      <td>0.049341</td>\n",
       "      <td>0.079165</td>\n",
       "      <td>-0.028674</td>\n",
       "      <td>0.034309</td>\n",
       "      <td>-0.018118</td>\n",
       "      <td>0.044485</td>\n",
       "    </tr>\n",
       "    <tr>\n",
       "      <th>439</th>\n",
       "      <td>0.041708</td>\n",
       "      <td>0.050680</td>\n",
       "      <td>-0.015906</td>\n",
       "      <td>0.017282</td>\n",
       "      <td>-0.037344</td>\n",
       "      <td>-0.013840</td>\n",
       "      <td>-0.024993</td>\n",
       "      <td>-0.011080</td>\n",
       "      <td>-0.046879</td>\n",
       "      <td>0.015491</td>\n",
       "    </tr>\n",
       "    <tr>\n",
       "      <th>440</th>\n",
       "      <td>-0.045472</td>\n",
       "      <td>-0.044642</td>\n",
       "      <td>0.039062</td>\n",
       "      <td>0.001215</td>\n",
       "      <td>0.016318</td>\n",
       "      <td>0.015283</td>\n",
       "      <td>-0.028674</td>\n",
       "      <td>0.026560</td>\n",
       "      <td>0.044528</td>\n",
       "      <td>-0.025930</td>\n",
       "    </tr>\n",
       "    <tr>\n",
       "      <th>441</th>\n",
       "      <td>-0.045472</td>\n",
       "      <td>-0.044642</td>\n",
       "      <td>-0.073030</td>\n",
       "      <td>-0.081414</td>\n",
       "      <td>0.083740</td>\n",
       "      <td>0.027809</td>\n",
       "      <td>0.173816</td>\n",
       "      <td>-0.039493</td>\n",
       "      <td>-0.004220</td>\n",
       "      <td>0.003064</td>\n",
       "    </tr>\n",
       "  </tbody>\n",
       "</table>\n",
       "<p>442 rows × 10 columns</p>\n",
       "</div>"
      ],
      "text/plain": [
       "          age       sex       bmi        bp        s1        s2        s3  \\\n",
       "0    0.038076  0.050680  0.061696  0.021872 -0.044223 -0.034821 -0.043401   \n",
       "1   -0.001882 -0.044642 -0.051474 -0.026328 -0.008449 -0.019163  0.074412   \n",
       "2    0.085299  0.050680  0.044451 -0.005671 -0.045599 -0.034194 -0.032356   \n",
       "3   -0.089063 -0.044642 -0.011595 -0.036656  0.012191  0.024991 -0.036038   \n",
       "4    0.005383 -0.044642 -0.036385  0.021872  0.003935  0.015596  0.008142   \n",
       "..        ...       ...       ...       ...       ...       ...       ...   \n",
       "437  0.041708  0.050680  0.019662  0.059744 -0.005697 -0.002566 -0.028674   \n",
       "438 -0.005515  0.050680 -0.015906 -0.067642  0.049341  0.079165 -0.028674   \n",
       "439  0.041708  0.050680 -0.015906  0.017282 -0.037344 -0.013840 -0.024993   \n",
       "440 -0.045472 -0.044642  0.039062  0.001215  0.016318  0.015283 -0.028674   \n",
       "441 -0.045472 -0.044642 -0.073030 -0.081414  0.083740  0.027809  0.173816   \n",
       "\n",
       "           s4        s5        s6  \n",
       "0   -0.002592  0.019908 -0.017646  \n",
       "1   -0.039493 -0.068330 -0.092204  \n",
       "2   -0.002592  0.002864 -0.025930  \n",
       "3    0.034309  0.022692 -0.009362  \n",
       "4   -0.002592 -0.031991 -0.046641  \n",
       "..        ...       ...       ...  \n",
       "437 -0.002592  0.031193  0.007207  \n",
       "438  0.034309 -0.018118  0.044485  \n",
       "439 -0.011080 -0.046879  0.015491  \n",
       "440  0.026560  0.044528 -0.025930  \n",
       "441 -0.039493 -0.004220  0.003064  \n",
       "\n",
       "[442 rows x 10 columns]"
      ]
     },
     "execution_count": 299,
     "metadata": {},
     "output_type": "execute_result"
    }
   ],
   "source": [
    "features_df"
   ]
  },
  {
   "cell_type": "code",
   "execution_count": 300,
   "id": "d7db8b29",
   "metadata": {},
   "outputs": [
    {
     "data": {
      "text/plain": [
       "0      151.0\n",
       "1       75.0\n",
       "2      141.0\n",
       "3      206.0\n",
       "4      135.0\n",
       "       ...  \n",
       "437    178.0\n",
       "438    104.0\n",
       "439    132.0\n",
       "440    220.0\n",
       "441     57.0\n",
       "Name: target, Length: 442, dtype: float64"
      ]
     },
     "execution_count": 300,
     "metadata": {},
     "output_type": "execute_result"
    }
   ],
   "source": [
    "target_df"
   ]
  },
  {
   "cell_type": "code",
   "execution_count": 301,
   "id": "f20cb0ff",
   "metadata": {},
   "outputs": [
    {
     "data": {
      "text/plain": [
       "age   -3.634285e-16\n",
       "sex    1.308343e-16\n",
       "bmi   -8.045349e-16\n",
       "bp     1.281655e-16\n",
       "s1    -8.835316e-17\n",
       "s2     1.327024e-16\n",
       "s3    -4.574646e-16\n",
       "s4     3.777301e-16\n",
       "s5    -3.830854e-16\n",
       "s6    -3.412882e-16\n",
       "dtype: float64"
      ]
     },
     "execution_count": 301,
     "metadata": {},
     "output_type": "execute_result"
    }
   ],
   "source": [
    "features_df.mean()"
   ]
  },
  {
   "cell_type": "code",
   "execution_count": 302,
   "id": "45c9902c",
   "metadata": {
    "scrolled": true
   },
   "outputs": [
    {
     "data": {
      "text/plain": [
       "age    0.005383\n",
       "sex   -0.044642\n",
       "bmi   -0.007284\n",
       "bp    -0.005671\n",
       "s1    -0.004321\n",
       "s2    -0.003819\n",
       "s3    -0.006584\n",
       "s4    -0.002592\n",
       "s5    -0.001948\n",
       "s6    -0.001078\n",
       "dtype: float64"
      ]
     },
     "execution_count": 302,
     "metadata": {},
     "output_type": "execute_result"
    }
   ],
   "source": [
    "features_df.median()"
   ]
  },
  {
   "cell_type": "code",
   "execution_count": 303,
   "id": "0c48dffa",
   "metadata": {},
   "outputs": [
    {
     "data": {
      "text/html": [
       "<div>\n",
       "<style scoped>\n",
       "    .dataframe tbody tr th:only-of-type {\n",
       "        vertical-align: middle;\n",
       "    }\n",
       "\n",
       "    .dataframe tbody tr th {\n",
       "        vertical-align: top;\n",
       "    }\n",
       "\n",
       "    .dataframe thead th {\n",
       "        text-align: right;\n",
       "    }\n",
       "</style>\n",
       "<table border=\"1\" class=\"dataframe\">\n",
       "  <thead>\n",
       "    <tr style=\"text-align: right;\">\n",
       "      <th></th>\n",
       "      <th>age</th>\n",
       "      <th>sex</th>\n",
       "      <th>bmi</th>\n",
       "      <th>bp</th>\n",
       "      <th>s1</th>\n",
       "      <th>s2</th>\n",
       "      <th>s3</th>\n",
       "      <th>s4</th>\n",
       "      <th>s5</th>\n",
       "      <th>s6</th>\n",
       "    </tr>\n",
       "  </thead>\n",
       "  <tbody>\n",
       "    <tr>\n",
       "      <th>0</th>\n",
       "      <td>0.016281</td>\n",
       "      <td>-0.044642</td>\n",
       "      <td>-0.030996</td>\n",
       "      <td>-0.040099</td>\n",
       "      <td>-0.037344</td>\n",
       "      <td>-0.001001</td>\n",
       "      <td>-0.013948</td>\n",
       "      <td>-0.039493</td>\n",
       "      <td>-0.018118</td>\n",
       "      <td>0.003064</td>\n",
       "    </tr>\n",
       "    <tr>\n",
       "      <th>1</th>\n",
       "      <td>NaN</td>\n",
       "      <td>NaN</td>\n",
       "      <td>-0.024529</td>\n",
       "      <td>-0.005671</td>\n",
       "      <td>-0.007073</td>\n",
       "      <td>0.016222</td>\n",
       "      <td>NaN</td>\n",
       "      <td>NaN</td>\n",
       "      <td>NaN</td>\n",
       "      <td>NaN</td>\n",
       "    </tr>\n",
       "  </tbody>\n",
       "</table>\n",
       "</div>"
      ],
      "text/plain": [
       "        age       sex       bmi        bp        s1        s2        s3  \\\n",
       "0  0.016281 -0.044642 -0.030996 -0.040099 -0.037344 -0.001001 -0.013948   \n",
       "1       NaN       NaN -0.024529 -0.005671 -0.007073  0.016222       NaN   \n",
       "\n",
       "         s4        s5        s6  \n",
       "0 -0.039493 -0.018118  0.003064  \n",
       "1       NaN       NaN       NaN  "
      ]
     },
     "execution_count": 303,
     "metadata": {},
     "output_type": "execute_result"
    }
   ],
   "source": [
    "features_df.mode()"
   ]
  },
  {
   "cell_type": "code",
   "execution_count": 304,
   "id": "36a811f0",
   "metadata": {},
   "outputs": [
    {
     "data": {
      "text/plain": [
       "<AxesSubplot:ylabel='Frequency'>"
      ]
     },
     "execution_count": 304,
     "metadata": {},
     "output_type": "execute_result"
    },
    {
     "data": {
      "image/png": "[encoded data removed]",
      "text/plain": [
       "<Figure size 432x288 with 1 Axes>"
      ]
     },
     "metadata": {
      "needs_background": "light"
     },
     "output_type": "display_data"
    }
   ],
   "source": [
    "#Histogram\n",
    "features_df.plot(kind='hist',y='age')"
   ]
  },
  {
   "cell_type": "code",
   "execution_count": 305,
   "id": "483de133",
   "metadata": {},
   "outputs": [
    {
     "data": {
      "text/plain": [
       "<matplotlib.collections.PathCollection at 0x24821201520>"
      ]
     },
     "execution_count": 305,
     "metadata": {},
     "output_type": "execute_result"
    },
    {
     "data": {
      "image/png": "[encoded data removed]",
      "text/plain": [
       "<Figure size 432x288 with 1 Axes>"
      ]
     },
     "metadata": {
      "needs_background": "light"
     },
     "output_type": "display_data"
    }
   ],
   "source": [
    "#Scatterplot\n",
    "age=features_df.loc[:,'age']\n",
    "plt.scatter(age,target_df)"
   ]
  },
  {
   "cell_type": "code",
   "execution_count": 306,
   "id": "a56b34f4",
   "metadata": {},
   "outputs": [
    {
     "name": "stdout",
     "output_type": "stream",
     "text": [
      "Correlation of age with target is 0.18788875071891983\n",
      "Correlation of sex with target is 0.0430619984516054\n",
      "Correlation of bmi with target is 0.5864501344746891\n",
      "Correlation of bp with target is 0.4414838489308862\n",
      "Correlation of s1 with target is 0.2120224810145508\n",
      "Correlation of s2 with target is 0.17405358696874249\n",
      "Correlation of s3 with target is -0.39478925067091847\n",
      "Correlation of s4 with target is 0.4304528847447734\n",
      "Correlation of s5 with target is 0.5658834252428094\n",
      "Correlation of s6 with target is 0.3824834842485812\n"
     ]
    }
   ],
   "source": [
    "Corr1 =features_df.age.corr(target_df)\n",
    "Corr2 =features_df.sex.corr(target_df)\n",
    "Corr3 =features_df.bmi.corr(target_df)\n",
    "Corr4 =features_df.bp.corr(target_df)\n",
    "Corr5 =features_df.s1.corr(target_df)\n",
    "Corr6 =features_df.s2.corr(target_df)\n",
    "Corr7 =features_df.s3.corr(target_df)\n",
    "Corr8 =features_df.s4.corr(target_df)\n",
    "Corr9 =features_df.s5.corr(target_df)\n",
    "Corr10=features_df.s6.corr(target_df)\n",
    "print(\"Correlation of age with target is\",Corr1)\n",
    "print(\"Correlation of sex with target is\",Corr2)\n",
    "print(\"Correlation of bmi with target is\",Corr3)\n",
    "print(\"Correlation of bp with target is\",Corr4)\n",
    "print(\"Correlation of s1 with target is\",Corr5)\n",
    "print(\"Correlation of s2 with target is\",Corr6)\n",
    "print(\"Correlation of s3 with target is\",Corr7)\n",
    "print(\"Correlation of s4 with target is\",Corr8)\n",
    "print(\"Correlation of s5 with target is\",Corr9)\n",
    "print(\"Correlation of s6 with target is\",Corr10)"
   ]
  },
  {
   "cell_type": "markdown",
   "id": "ff6dbe80",
   "metadata": {},
   "source": [
    "Body Mass Index has the highest correlation to Target, which is a quantitative measure of disease progression one year after baseline)."
   ]
  },
  {
   "cell_type": "code",
   "execution_count": 307,
   "id": "bf0cd10f",
   "metadata": {},
   "outputs": [
    {
     "name": "stderr",
     "output_type": "stream",
     "text": [
      "C:\\Users\\Anju\\AppData\\Local\\Temp/ipykernel_6708/557649747.py:6: FutureWarning: Support for multi-dimensional indexing (e.g. `obj[:, None]`) is deprecated and will be removed in a future version.  Convert to a numpy array before indexing instead.\n",
      "  bmi_train = features_df_train_bmi[:,np.newaxis]\n",
      "C:\\Users\\Anju\\AppData\\Local\\Temp/ipykernel_6708/557649747.py:8: FutureWarning: Support for multi-dimensional indexing (e.g. `obj[:, None]`) is deprecated and will be removed in a future version.  Convert to a numpy array before indexing instead.\n",
      "  bmi_test = features_df_test_bmi[:,np.newaxis]\n"
     ]
    }
   ],
   "source": [
    "# Split the input data into a training set and test set. We use 80% of data for training and 20% for testing.\n",
    "features_df_train = features_df[:-88]\n",
    "features_df_test = features_df[-88:]\n",
    "features_df_train_bmi = features_df_train.loc[:,'bmi']\n",
    "features_df_train_bmi.shape\n",
    "bmi_train = features_df_train_bmi[:,np.newaxis]\n",
    "features_df_test_bmi = features_df_test.loc[:,'bmi']\n",
    "bmi_test = features_df_test_bmi[:,np.newaxis]"
   ]
  },
  {
   "cell_type": "code",
   "execution_count": 308,
   "id": "3ccea98f",
   "metadata": {},
   "outputs": [],
   "source": [
    "# Split the output data/ target into a training set and test set. We use 80% of data for training and 20% for testing.\n",
    "target_df_train = target_df[:-88]\n",
    "target_df_test = target_df[-88:]"
   ]
  },
  {
   "cell_type": "code",
   "execution_count": 309,
   "id": "ad70d947",
   "metadata": {},
   "outputs": [],
   "source": [
    "# Create linear regression object\n",
    "regr = linear_model.LinearRegression()"
   ]
  },
  {
   "cell_type": "code",
   "execution_count": 310,
   "id": "b4df1360",
   "metadata": {},
   "outputs": [
    {
     "data": {
      "text/plain": [
       "LinearRegression()"
      ]
     },
     "execution_count": 310,
     "metadata": {},
     "output_type": "execute_result"
    }
   ],
   "source": [
    "# Train the model using the training sets\n",
    "regr.fit(bmi_train,target_df_train)"
   ]
  },
  {
   "cell_type": "code",
   "execution_count": 311,
   "id": "63568c9e",
   "metadata": {},
   "outputs": [],
   "source": [
    "# Make predictions using the testing set\n",
    "target_df_pred = regr.predict(bmi_test)"
   ]
  },
  {
   "cell_type": "code",
   "execution_count": 312,
   "id": "6e9f55fa",
   "metadata": {},
   "outputs": [
    {
     "name": "stdout",
     "output_type": "stream",
     "text": [
      "Coefficients: \n",
      " [957.00838948]\n",
      "Mean squared error: 4124.82\n",
      "R squared value: 0.36\n"
     ]
    }
   ],
   "source": [
    "# The coefficients\n",
    "print(\"Coefficients: \\n\", regr.coef_)\n",
    "# The mean squared error\n",
    "print(\"Mean squared error: %.2f\" % mean_squared_error(target_df_test,target_df_pred))\n",
    "# R squared value/ coefficient of determination: 1 is perfect prediction\n",
    "print(\"R squared value: %.2f\" % r2_score(target_df_test,target_df_pred))"
   ]
  },
  {
   "cell_type": "code",
   "execution_count": 313,
   "id": "a561f200",
   "metadata": {},
   "outputs": [
    {
     "data": {
      "text/plain": [
       "[<matplotlib.lines.Line2D at 0x24821266e80>]"
      ]
     },
     "execution_count": 313,
     "metadata": {},
     "output_type": "execute_result"
    },
    {
     "data": {
      "image/png": "[encoded data removed]",
      "text/plain": [
       "<Figure size 432x288 with 1 Axes>"
      ]
     },
     "metadata": {
      "needs_background": "light"
     },
     "output_type": "display_data"
    }
   ],
   "source": [
    "# Plot the linear fit together with the training data\n",
    "plt.scatter(bmi_train,target_df_train, color=\"black\")\n",
    "plt.plot(bmi_test,target_df_pred, color=\"blue\", linewidth=3)"
   ]
  },
  {
   "cell_type": "code",
   "execution_count": 314,
   "id": "22920d3e",
   "metadata": {},
   "outputs": [
    {
     "name": "stderr",
     "output_type": "stream",
     "text": [
      "C:\\Users\\Anju\\AppData\\Local\\Temp/ipykernel_6708/3842309421.py:3: FutureWarning: Support for multi-dimensional indexing (e.g. `obj[:, None]`) is deprecated and will be removed in a future version.  Convert to a numpy array before indexing instead.\n",
      "  bp_train = features_df_train_bp[:,np.newaxis]\n",
      "C:\\Users\\Anju\\AppData\\Local\\Temp/ipykernel_6708/3842309421.py:5: FutureWarning: Support for multi-dimensional indexing (e.g. `obj[:, None]`) is deprecated and will be removed in a future version.  Convert to a numpy array before indexing instead.\n",
      "  bp_test = features_df_test_bp[:,np.newaxis]\n"
     ]
    }
   ],
   "source": [
    "features_df_train_bp = features_df_train.loc[:,'bp']\n",
    "features_df_train_bp.shape\n",
    "bp_train = features_df_train_bp[:,np.newaxis]\n",
    "features_df_test_bp = features_df_test.loc[:,'bp']\n",
    "bp_test = features_df_test_bp[:,np.newaxis]"
   ]
  },
  {
   "cell_type": "code",
   "execution_count": 315,
   "id": "9c4418dc",
   "metadata": {},
   "outputs": [
    {
     "name": "stdout",
     "output_type": "stream",
     "text": [
      "Coefficients: \n",
      " [677.53659046]\n",
      "Mean squared error: 4852.46\n",
      "R squared value: 0.25\n"
     ]
    }
   ],
   "source": [
    "regr.fit(bp_train,target_df_train)\n",
    "target_df_pred1 = regr.predict(bp_test)\n",
    "print(\"Coefficients: \\n\", regr.coef_)\n",
    "# The mean squared error\n",
    "print(\"Mean squared error: %.2f\" % mean_squared_error(target_df_test,target_df_pred1))\n",
    "# R squared value/ coefficient of determination: 1 is perfect prediction\n",
    "print(\"R squared value: %.2f\" % r2_score(target_df_test,target_df_pred1))"
   ]
  },
  {
   "cell_type": "markdown",
   "id": "f0a9186f",
   "metadata": {},
   "source": [
    "As Bp is less correlated than BMI to target, we can see the mean square error is more and r squared value is less."
   ]
  },
  {
   "cell_type": "code",
   "execution_count": 316,
   "id": "9bc64cad",
   "metadata": {},
   "outputs": [],
   "source": [
    "#Polynomial regression\n",
    "from sklearn.preprocessing import PolynomialFeatures\n",
    "poly = PolynomialFeatures(degree=3, include_bias=False)"
   ]
  },
  {
   "cell_type": "code",
   "execution_count": 317,
   "id": "c3a316f5",
   "metadata": {},
   "outputs": [
    {
     "data": {
      "text/plain": [
       "PolynomialFeatures(degree=3, include_bias=False)"
      ]
     },
     "execution_count": 317,
     "metadata": {},
     "output_type": "execute_result"
    }
   ],
   "source": [
    "poly.fit(bmi_train,target_df_train)"
   ]
  },
  {
   "cell_type": "code",
   "execution_count": 318,
   "id": "b9c1f48e",
   "metadata": {},
   "outputs": [
    {
     "data": {
      "text/plain": [
       "LinearRegression()"
      ]
     },
     "execution_count": 318,
     "metadata": {},
     "output_type": "execute_result"
    }
   ],
   "source": [
    "from sklearn.linear_model import LinearRegression\n",
    "poly_linreg_model = LinearRegression()\n",
    "polybmi_train = poly.fit_transform(bmi_train)\n",
    "poly_linreg_model.fit(polybmi_train,target_df_train)"
   ]
  },
  {
   "cell_type": "code",
   "execution_count": 319,
   "id": "af30da36",
   "metadata": {},
   "outputs": [],
   "source": [
    "polybmi_test = poly.fit_transform(bmi_test)\n",
    "ypred = poly_linreg_model.predict(polybmi_test)"
   ]
  },
  {
   "cell_type": "code",
   "execution_count": 320,
   "id": "4dd6cfbe",
   "metadata": {},
   "outputs": [
    {
     "data": {
      "text/plain": [
       "<matplotlib.collections.PathCollection at 0x2482121c2b0>"
      ]
     },
     "execution_count": 320,
     "metadata": {},
     "output_type": "execute_result"
    },
    {
     "data": {
      "image/png": "[encoded data removed]",
      "text/plain": [
       "<Figure size 432x288 with 1 Axes>"
      ]
     },
     "metadata": {
      "needs_background": "light"
     },
     "output_type": "display_data"
    }
   ],
   "source": [
    "plt.plot(bmi_test, ypred, label=\"Model\")\n",
    "plt.scatter(bmi_train,target_df_train, color=\"black\")"
   ]
  },
  {
   "cell_type": "code",
   "execution_count": 321,
   "id": "4c97f754",
   "metadata": {},
   "outputs": [],
   "source": [
    "#Clustering\n",
    "from sklearn.datasets import make_blobs\n",
    "X, y = make_blobs(n_samples=300, centers=4, cluster_std=0.60, random_state=0)\n",
    "df = pd.DataFrame(X, columns=['x1','x2'])"
   ]
  },
  {
   "cell_type": "code",
   "execution_count": 322,
   "id": "53c62509",
   "metadata": {},
   "outputs": [
    {
     "data": {
      "text/plain": [
       "<matplotlib.collections.PathCollection at 0x24821343190>"
      ]
     },
     "execution_count": 322,
     "metadata": {},
     "output_type": "execute_result"
    },
    {
     "data": {
      "image/png": "[encoded data removed]",
      "text/plain": [
       "<Figure size 432x288 with 1 Axes>"
      ]
     },
     "metadata": {
      "needs_background": "light"
     },
     "output_type": "display_data"
    }
   ],
   "source": [
    "q=df.loc[:,'x1']\n",
    "r=df.loc[:,'x2']\n",
    "plt.scatter(q,r)"
   ]
  },
  {
   "cell_type": "code",
   "execution_count": 323,
   "id": "094166b8",
   "metadata": {},
   "outputs": [],
   "source": [
    "from sklearn.cluster import KMeans\n",
    "kmeans = KMeans(n_clusters=4)"
   ]
  },
  {
   "cell_type": "code",
   "execution_count": 324,
   "id": "e1f23968",
   "metadata": {},
   "outputs": [
    {
     "data": {
      "text/plain": [
       "KMeans(n_clusters=4)"
      ]
     },
     "execution_count": 324,
     "metadata": {},
     "output_type": "execute_result"
    }
   ],
   "source": [
    "kmeans.fit(X)"
   ]
  },
  {
   "cell_type": "code",
   "execution_count": 325,
   "id": "6006d471",
   "metadata": {},
   "outputs": [
    {
     "data": {
      "text/plain": [
       "array([2, 1, 3, 1, 2, 2, 0, 3, 1, 1, 0, 1, 3, 1, 2, 3, 3, 2, 0, 0, 2, 2,\n",
       "       3, 0, 0, 3, 2, 3, 0, 3, 1, 1, 3, 1, 1, 1, 1, 1, 0, 2, 3, 0, 3, 3,\n",
       "       0, 0, 1, 0, 1, 2, 0, 2, 1, 2, 2, 0, 1, 0, 1, 2, 1, 3, 1, 0, 0, 0,\n",
       "       1, 2, 1, 0, 3, 0, 1, 0, 0, 1, 0, 3, 2, 1, 2, 3, 2, 2, 1, 3, 2, 3,\n",
       "       1, 1, 3, 2, 1, 0, 0, 3, 2, 2, 3, 0, 1, 2, 1, 2, 3, 2, 2, 3, 1, 3,\n",
       "       0, 0, 2, 1, 2, 3, 1, 2, 2, 3, 0, 2, 0, 2, 2, 2, 2, 0, 2, 0, 1, 0,\n",
       "       0, 2, 1, 0, 0, 1, 3, 1, 1, 0, 3, 0, 3, 0, 1, 3, 1, 1, 1, 3, 1, 3,\n",
       "       2, 0, 1, 0, 2, 3, 1, 3, 3, 2, 3, 0, 0, 3, 2, 3, 3, 1, 2, 3, 0, 1,\n",
       "       2, 2, 3, 0, 2, 3, 0, 0, 3, 3, 3, 3, 2, 1, 3, 0, 3, 3, 0, 0, 0, 3,\n",
       "       0, 1, 3, 0, 2, 0, 3, 1, 0, 1, 3, 1, 3, 0, 3, 3, 1, 0, 0, 2, 2, 3,\n",
       "       1, 2, 2, 0, 2, 0, 3, 1, 1, 3, 3, 1, 3, 2, 0, 3, 2, 0, 1, 0, 2, 3,\n",
       "       2, 1, 1, 1, 1, 0, 0, 1, 3, 0, 2, 3, 0, 0, 0, 2, 2, 1, 3, 3, 0, 2,\n",
       "       1, 0, 3, 1, 3, 2, 2, 0, 0, 3, 2, 2, 2, 3, 1, 1, 2, 2, 3, 2, 2, 2,\n",
       "       1, 0, 1, 3, 2, 2, 1, 1, 1, 2, 2, 3, 1, 0])"
      ]
     },
     "execution_count": 325,
     "metadata": {},
     "output_type": "execute_result"
    }
   ],
   "source": [
    "kmeans.labels_"
   ]
  },
  {
   "cell_type": "code",
   "execution_count": 326,
   "id": "b9c5cf4e",
   "metadata": {},
   "outputs": [
    {
     "data": {
      "image/png": "[encoded data removed]",
      "text/plain": [
       "<Figure size 432x288 with 1 Axes>"
      ]
     },
     "metadata": {
      "needs_background": "light"
     },
     "output_type": "display_data"
    }
   ],
   "source": [
    "#Generate another scatter plot of the data with the points colored by cluster to see how the algorithm fared\n",
    "import seaborn as sns\n",
    "sns.scatterplot(x=X[:,0],\n",
    "                y=X[:,1],\n",
    "                hue=kmeans.labels_,\n",
    "                palette='rainbow');"
   ]
  },
  {
   "cell_type": "code",
   "execution_count": 327,
   "id": "d12b4ee1",
   "metadata": {},
   "outputs": [
    {
     "data": {
      "text/plain": [
       "<matplotlib.collections.PathCollection at 0x248214271f0>"
      ]
     },
     "execution_count": 327,
     "metadata": {},
     "output_type": "execute_result"
    },
    {
     "data": {
      "image/png": "[encoded data removed]",
      "text/plain": [
       "<Figure size 432x288 with 1 Axes>"
      ]
     },
     "metadata": {
      "needs_background": "light"
     },
     "output_type": "display_data"
    }
   ],
   "source": [
    "# Different parameters\n",
    "X1, y1 = make_blobs(n_samples=300, centers=3, cluster_std=0.40, random_state=0)\n",
    "df = pd.DataFrame(X1, columns=['x3','x4'])\n",
    "s=df.loc[:,'x3']\n",
    "t=df.loc[:,'x4']\n",
    "plt.scatter(s,t)"
   ]
  },
  {
   "cell_type": "code",
   "execution_count": 328,
   "id": "41122a22",
   "metadata": {},
   "outputs": [
    {
     "data": {
      "text/plain": [
       "array([2, 1, 2, 0, 0, 0, 1, 2, 0, 0, 1, 1, 1, 2, 1, 0, 2, 2, 0, 1, 0, 2,\n",
       "       1, 2, 0, 0, 2, 0, 1, 1, 0, 2, 2, 1, 1, 0, 1, 0, 2, 1, 0, 1, 2, 1,\n",
       "       1, 0, 1, 0, 0, 1, 0, 1, 0, 0, 1, 2, 2, 0, 0, 2, 1, 1, 2, 0, 1, 0,\n",
       "       2, 1, 2, 1, 0, 0, 0, 0, 1, 2, 1, 0, 2, 2, 0, 2, 1, 2, 2, 2, 1, 0,\n",
       "       2, 2, 0, 1, 0, 2, 1, 1, 2, 1, 0, 2, 1, 0, 2, 1, 2, 2, 0, 2, 1, 1,\n",
       "       2, 0, 2, 2, 0, 0, 2, 2, 1, 1, 1, 0, 1, 1, 1, 0, 1, 1, 1, 0, 0, 0,\n",
       "       2, 0, 0, 1, 0, 2, 0, 0, 1, 2, 1, 2, 0, 0, 2, 0, 0, 1, 2, 0, 2, 1,\n",
       "       0, 0, 1, 1, 2, 1, 2, 2, 1, 2, 0, 2, 2, 2, 2, 0, 1, 2, 0, 1, 1, 1,\n",
       "       2, 1, 2, 2, 1, 0, 2, 2, 2, 2, 1, 0, 2, 0, 2, 2, 1, 1, 0, 2, 1, 0,\n",
       "       2, 0, 1, 0, 2, 0, 1, 0, 2, 0, 2, 1, 2, 2, 0, 1, 1, 1, 1, 2, 0, 1,\n",
       "       2, 1, 1, 1, 2, 0, 0, 2, 2, 0, 2, 1, 1, 2, 1, 0, 0, 0, 2, 2, 1, 0,\n",
       "       0, 0, 0, 1, 0, 0, 2, 1, 1, 2, 1, 1, 0, 2, 1, 0, 2, 2, 0, 2, 0, 0,\n",
       "       2, 0, 2, 1, 1, 1, 1, 2, 2, 2, 2, 2, 0, 0, 1, 2, 2, 1, 1, 1, 0, 1,\n",
       "       0, 0, 1, 1, 0, 0, 0, 1, 2, 2, 0, 1, 2, 0])"
      ]
     },
     "execution_count": 328,
     "metadata": {},
     "output_type": "execute_result"
    }
   ],
   "source": [
    "kmeans = KMeans(n_clusters=3)\n",
    "kmeans.fit(X1)\n",
    "kmeans.labels_"
   ]
  },
  {
   "cell_type": "code",
   "execution_count": 329,
   "id": "b2dbc674",
   "metadata": {},
   "outputs": [
    {
     "data": {
      "image/png": "[encoded data removed]",
      "text/plain": [
       "<Figure size 432x288 with 1 Axes>"
      ]
     },
     "metadata": {
      "needs_background": "light"
     },
     "output_type": "display_data"
    }
   ],
   "source": [
    "sns.scatterplot(x=X1[:,0],\n",
    "                y=X1[:,1],\n",
    "                hue=kmeans.labels_,\n",
    "                palette='rainbow');"
   ]
  },
  {
   "cell_type": "code",
   "execution_count": 330,
   "id": "a8851938",
   "metadata": {},
   "outputs": [
    {
     "data": {
      "image/png": "[encoded data removed]",
      "text/plain": [
       "<Figure size 432x288 with 1 Axes>"
      ]
     },
     "metadata": {
      "needs_background": "light"
     },
     "output_type": "display_data"
    }
   ],
   "source": [
    "X1, y1 = make_blobs(n_samples=300, centers=1, cluster_std=0.40, random_state=0)\n",
    "df = pd.DataFrame(X1, columns=['x3','x4'])\n",
    "s=df.loc[:,'x3']\n",
    "t=df.loc[:,'x4']\n",
    "plt.scatter(s,t)\n",
    "kmeans = KMeans(n_clusters=3)\n",
    "kmeans.fit(X1)\n",
    "kmeans.labels_\n",
    "sns.scatterplot(x=X1[:,0],\n",
    "                y=X1[:,1],\n",
    "                hue=kmeans.labels_,\n",
    "                palette='rainbow');"
   ]
  },
  {
   "cell_type": "markdown",
   "id": "d206f6ec",
   "metadata": {},
   "source": [
    "Kmeans does a good job when \n",
    "1. Cluster S.D. is less \n",
    "2. Centroid values are initialised in more numbers"
   ]
  }
 ],
 "metadata": {
  "kernelspec": {
   "display_name": "Python 3 (ipykernel)",
   "language": "python",
   "name": "python3"
  },
  "language_info": {
   "codemirror_mode": {
    "name": "ipython",
    "version": 3
   },
   "file_extension": ".py",
   "mimetype": "text/x-python",
   "name": "python",
   "nbconvert_exporter": "python",
   "pygments_lexer": "ipython3",
   "version": "3.9.7"
  }
 },
 "nbformat": 4,
 "nbformat_minor": 5
}
