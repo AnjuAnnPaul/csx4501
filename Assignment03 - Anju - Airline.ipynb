{
 "cells": [
  {
   "cell_type": "markdown",
   "id": "bb4f5554-efc9-460e-8254-995efb5f06ac",
   "metadata": {},
   "source": [
    "# Assignment 3"
   ]
  },
  {
   "cell_type": "markdown",
   "id": "77df600c-5f4a-4e18-bd2d-88551a4f1cc6",
   "metadata": {},
   "source": [
    "## Pandas and plotting exercises"
   ]
  },
  {
   "cell_type": "code",
   "execution_count": 195,
   "id": "f5e83735-8845-4afc-b79a-b0efe963d305",
   "metadata": {},
   "outputs": [],
   "source": [
    "# Import the pandas library\n",
    "import pandas as pd\n",
    "import matplotlib.pyplot as plt"
   ]
  },
  {
   "cell_type": "markdown",
   "id": "c4fe53d9-5776-45c6-b47d-9465a2888808",
   "metadata": {},
   "source": [
    "In Week 2, you used a dataset from the CORGIS website.  You may have used either the Python, CSV, or JSON data files.\n",
    "\n",
    "For this assignment, use the CSV file format for the same category of data that you used previously."
   ]
  },
  {
   "cell_type": "code",
   "execution_count": 196,
   "id": "c5850ef7-07fb-456c-9943-ba9e87cc0784",
   "metadata": {},
   "outputs": [],
   "source": [
    "# Use pandas read_csv function to import the data into a dataframe variable\n",
    "\n",
    "df=pd.read_csv('airlines.csv')"
   ]
  },
  {
   "cell_type": "code",
   "execution_count": 197,
   "id": "ab04825f-f9ba-49ae-bf40-322f4e2554a9",
   "metadata": {},
   "outputs": [
    {
     "data": {
      "text/plain": [
       "(4408, 24)"
      ]
     },
     "execution_count": 197,
     "metadata": {},
     "output_type": "execute_result"
    }
   ],
   "source": [
    "# How many rows and columns does the dataframe have?\n",
    "df.shape\n"
   ]
  },
  {
   "cell_type": "markdown",
   "id": "f21b2859",
   "metadata": {},
   "source": [
    "No. of rows    = 4408\n",
    "No. of columns = 24"
   ]
  },
  {
   "cell_type": "code",
   "execution_count": 198,
   "id": "e20a45fc-dfc0-4559-977b-d2b86e2f6534",
   "metadata": {},
   "outputs": [
    {
     "data": {
      "text/plain": [
       "Index(['Airport.Code', 'Airport.Name', 'Time.Label', 'Time.Month',\n",
       "       'Time.Month Name', 'Time.Year', 'Statistics.# of Delays.Carrier',\n",
       "       'Statistics.# of Delays.Late Aircraft',\n",
       "       'Statistics.# of Delays.National Aviation System',\n",
       "       'Statistics.# of Delays.Security', 'Statistics.# of Delays.Weather',\n",
       "       'Statistics.Carriers.Names', 'Statistics.Carriers.Total',\n",
       "       'Statistics.Flights.Cancelled', 'Statistics.Flights.Delayed',\n",
       "       'Statistics.Flights.Diverted', 'Statistics.Flights.On Time',\n",
       "       'Statistics.Flights.Total', 'Statistics.Minutes Delayed.Carrier',\n",
       "       'Statistics.Minutes Delayed.Late Aircraft',\n",
       "       'Statistics.Minutes Delayed.National Aviation System',\n",
       "       'Statistics.Minutes Delayed.Security',\n",
       "       'Statistics.Minutes Delayed.Total',\n",
       "       'Statistics.Minutes Delayed.Weather'],\n",
       "      dtype='object')"
      ]
     },
     "execution_count": 198,
     "metadata": {},
     "output_type": "execute_result"
    }
   ],
   "source": [
    "# What are the column names of the dataframe?\n",
    "\n",
    "df.columns"
   ]
  },
  {
   "cell_type": "code",
   "execution_count": 199,
   "id": "7a549f96-8e8e-456a-a219-096dcddb1fb8",
   "metadata": {},
   "outputs": [
    {
     "data": {
      "text/plain": [
       "Airport.Code                                           object\n",
       "Airport.Name                                           object\n",
       "Time.Label                                             object\n",
       "Time.Month                                              int64\n",
       "Time.Month Name                                        object\n",
       "Time.Year                                               int64\n",
       "Statistics.# of Delays.Carrier                          int64\n",
       "Statistics.# of Delays.Late Aircraft                    int64\n",
       "Statistics.# of Delays.National Aviation System         int64\n",
       "Statistics.# of Delays.Security                         int64\n",
       "Statistics.# of Delays.Weather                          int64\n",
       "Statistics.Carriers.Names                              object\n",
       "Statistics.Carriers.Total                               int64\n",
       "Statistics.Flights.Cancelled                            int64\n",
       "Statistics.Flights.Delayed                              int64\n",
       "Statistics.Flights.Diverted                             int64\n",
       "Statistics.Flights.On Time                              int64\n",
       "Statistics.Flights.Total                                int64\n",
       "Statistics.Minutes Delayed.Carrier                      int64\n",
       "Statistics.Minutes Delayed.Late Aircraft                int64\n",
       "Statistics.Minutes Delayed.National Aviation System     int64\n",
       "Statistics.Minutes Delayed.Security                     int64\n",
       "Statistics.Minutes Delayed.Total                        int64\n",
       "Statistics.Minutes Delayed.Weather                      int64\n",
       "dtype: object"
      ]
     },
     "execution_count": 199,
     "metadata": {},
     "output_type": "execute_result"
    }
   ],
   "source": [
    "# What are the datatypes of each column?\n",
    "\n",
    "df.dtypes"
   ]
  },
  {
   "cell_type": "code",
   "execution_count": 200,
   "id": "51471321-443e-4b23-846e-54630d29af29",
   "metadata": {},
   "outputs": [
    {
     "data": {
      "text/html": [
       "<div>\n",
       "<style scoped>\n",
       "    .dataframe tbody tr th:only-of-type {\n",
       "        vertical-align: middle;\n",
       "    }\n",
       "\n",
       "    .dataframe tbody tr th {\n",
       "        vertical-align: top;\n",
       "    }\n",
       "\n",
       "    .dataframe thead th {\n",
       "        text-align: right;\n",
       "    }\n",
       "</style>\n",
       "<table border=\"1\" class=\"dataframe\">\n",
       "  <thead>\n",
       "    <tr style=\"text-align: right;\">\n",
       "      <th></th>\n",
       "      <th>Airport.Code</th>\n",
       "      <th>Airport.Name</th>\n",
       "      <th>Time.Label</th>\n",
       "      <th>Time.Month</th>\n",
       "      <th>Time.Month Name</th>\n",
       "      <th>Time.Year</th>\n",
       "      <th>Statistics.# of Delays.Carrier</th>\n",
       "      <th>Statistics.# of Delays.Late Aircraft</th>\n",
       "      <th>Statistics.# of Delays.National Aviation System</th>\n",
       "      <th>Statistics.# of Delays.Security</th>\n",
       "      <th>...</th>\n",
       "      <th>Statistics.Flights.Delayed</th>\n",
       "      <th>Statistics.Flights.Diverted</th>\n",
       "      <th>Statistics.Flights.On Time</th>\n",
       "      <th>Statistics.Flights.Total</th>\n",
       "      <th>Statistics.Minutes Delayed.Carrier</th>\n",
       "      <th>Statistics.Minutes Delayed.Late Aircraft</th>\n",
       "      <th>Statistics.Minutes Delayed.National Aviation System</th>\n",
       "      <th>Statistics.Minutes Delayed.Security</th>\n",
       "      <th>Statistics.Minutes Delayed.Total</th>\n",
       "      <th>Statistics.Minutes Delayed.Weather</th>\n",
       "    </tr>\n",
       "  </thead>\n",
       "  <tbody>\n",
       "    <tr>\n",
       "      <th>0</th>\n",
       "      <td>ATL</td>\n",
       "      <td>Atlanta, GA: Hartsfield-Jackson Atlanta Intern...</td>\n",
       "      <td>2003/06</td>\n",
       "      <td>6</td>\n",
       "      <td>June</td>\n",
       "      <td>2003</td>\n",
       "      <td>1009</td>\n",
       "      <td>1275</td>\n",
       "      <td>3217</td>\n",
       "      <td>17</td>\n",
       "      <td>...</td>\n",
       "      <td>5843</td>\n",
       "      <td>27</td>\n",
       "      <td>23974</td>\n",
       "      <td>30060</td>\n",
       "      <td>61606</td>\n",
       "      <td>68335</td>\n",
       "      <td>118831</td>\n",
       "      <td>518</td>\n",
       "      <td>268764</td>\n",
       "      <td>19474</td>\n",
       "    </tr>\n",
       "    <tr>\n",
       "      <th>1</th>\n",
       "      <td>BOS</td>\n",
       "      <td>Boston, MA: Logan International</td>\n",
       "      <td>2003/06</td>\n",
       "      <td>6</td>\n",
       "      <td>June</td>\n",
       "      <td>2003</td>\n",
       "      <td>374</td>\n",
       "      <td>495</td>\n",
       "      <td>685</td>\n",
       "      <td>3</td>\n",
       "      <td>...</td>\n",
       "      <td>1623</td>\n",
       "      <td>3</td>\n",
       "      <td>7875</td>\n",
       "      <td>9639</td>\n",
       "      <td>20319</td>\n",
       "      <td>28189</td>\n",
       "      <td>24400</td>\n",
       "      <td>99</td>\n",
       "      <td>77167</td>\n",
       "      <td>4160</td>\n",
       "    </tr>\n",
       "  </tbody>\n",
       "</table>\n",
       "<p>2 rows × 24 columns</p>\n",
       "</div>"
      ],
      "text/plain": [
       "  Airport.Code                                       Airport.Name Time.Label  \\\n",
       "0          ATL  Atlanta, GA: Hartsfield-Jackson Atlanta Intern...    2003/06   \n",
       "1          BOS                    Boston, MA: Logan International    2003/06   \n",
       "\n",
       "   Time.Month Time.Month Name  Time.Year  Statistics.# of Delays.Carrier  \\\n",
       "0           6            June       2003                            1009   \n",
       "1           6            June       2003                             374   \n",
       "\n",
       "   Statistics.# of Delays.Late Aircraft  \\\n",
       "0                                  1275   \n",
       "1                                   495   \n",
       "\n",
       "   Statistics.# of Delays.National Aviation System  \\\n",
       "0                                             3217   \n",
       "1                                              685   \n",
       "\n",
       "   Statistics.# of Delays.Security  ...  Statistics.Flights.Delayed  \\\n",
       "0                               17  ...                        5843   \n",
       "1                                3  ...                        1623   \n",
       "\n",
       "  Statistics.Flights.Diverted  Statistics.Flights.On Time  \\\n",
       "0                          27                       23974   \n",
       "1                           3                        7875   \n",
       "\n",
       "   Statistics.Flights.Total  Statistics.Minutes Delayed.Carrier  \\\n",
       "0                     30060                               61606   \n",
       "1                      9639                               20319   \n",
       "\n",
       "   Statistics.Minutes Delayed.Late Aircraft  \\\n",
       "0                                     68335   \n",
       "1                                     28189   \n",
       "\n",
       "   Statistics.Minutes Delayed.National Aviation System  \\\n",
       "0                                             118831     \n",
       "1                                              24400     \n",
       "\n",
       "   Statistics.Minutes Delayed.Security  Statistics.Minutes Delayed.Total  \\\n",
       "0                                  518                            268764   \n",
       "1                                   99                             77167   \n",
       "\n",
       "   Statistics.Minutes Delayed.Weather  \n",
       "0                               19474  \n",
       "1                                4160  \n",
       "\n",
       "[2 rows x 24 columns]"
      ]
     },
     "execution_count": 200,
     "metadata": {},
     "output_type": "execute_result"
    }
   ],
   "source": [
    "# Look at the first 2 rows of the dataframe\n",
    "\n",
    "df.head(2)"
   ]
  },
  {
   "cell_type": "code",
   "execution_count": 201,
   "id": "f0206392-0e77-497c-8394-ad3e229a83ab",
   "metadata": {},
   "outputs": [
    {
     "data": {
      "text/html": [
       "<div>\n",
       "<style scoped>\n",
       "    .dataframe tbody tr th:only-of-type {\n",
       "        vertical-align: middle;\n",
       "    }\n",
       "\n",
       "    .dataframe tbody tr th {\n",
       "        vertical-align: top;\n",
       "    }\n",
       "\n",
       "    .dataframe thead th {\n",
       "        text-align: right;\n",
       "    }\n",
       "</style>\n",
       "<table border=\"1\" class=\"dataframe\">\n",
       "  <thead>\n",
       "    <tr style=\"text-align: right;\">\n",
       "      <th></th>\n",
       "      <th>Airport.Code</th>\n",
       "      <th>Airport.Name</th>\n",
       "      <th>Time.Label</th>\n",
       "      <th>Time.Month</th>\n",
       "      <th>Time.Month Name</th>\n",
       "      <th>Time.Year</th>\n",
       "      <th>Statistics.# of Delays.Carrier</th>\n",
       "      <th>Statistics.# of Delays.Late Aircraft</th>\n",
       "      <th>Statistics.# of Delays.National Aviation System</th>\n",
       "      <th>Statistics.# of Delays.Security</th>\n",
       "      <th>...</th>\n",
       "      <th>Statistics.Flights.Delayed</th>\n",
       "      <th>Statistics.Flights.Diverted</th>\n",
       "      <th>Statistics.Flights.On Time</th>\n",
       "      <th>Statistics.Flights.Total</th>\n",
       "      <th>Statistics.Minutes Delayed.Carrier</th>\n",
       "      <th>Statistics.Minutes Delayed.Late Aircraft</th>\n",
       "      <th>Statistics.Minutes Delayed.National Aviation System</th>\n",
       "      <th>Statistics.Minutes Delayed.Security</th>\n",
       "      <th>Statistics.Minutes Delayed.Total</th>\n",
       "      <th>Statistics.Minutes Delayed.Weather</th>\n",
       "    </tr>\n",
       "  </thead>\n",
       "  <tbody>\n",
       "    <tr>\n",
       "      <th>4406</th>\n",
       "      <td>SLC</td>\n",
       "      <td>Salt Lake City, UT: Salt Lake City International</td>\n",
       "      <td>2016/01</td>\n",
       "      <td>1</td>\n",
       "      <td>January</td>\n",
       "      <td>2016</td>\n",
       "      <td>338</td>\n",
       "      <td>540</td>\n",
       "      <td>253</td>\n",
       "      <td>3</td>\n",
       "      <td>...</td>\n",
       "      <td>1175</td>\n",
       "      <td>14</td>\n",
       "      <td>7426</td>\n",
       "      <td>8699</td>\n",
       "      <td>32066</td>\n",
       "      <td>33682</td>\n",
       "      <td>8057</td>\n",
       "      <td>57</td>\n",
       "      <td>76978</td>\n",
       "      <td>3116</td>\n",
       "    </tr>\n",
       "    <tr>\n",
       "      <th>4407</th>\n",
       "      <td>TPA</td>\n",
       "      <td>Tampa, FL: Tampa International</td>\n",
       "      <td>2016/01</td>\n",
       "      <td>1</td>\n",
       "      <td>January</td>\n",
       "      <td>2016</td>\n",
       "      <td>410</td>\n",
       "      <td>342</td>\n",
       "      <td>312</td>\n",
       "      <td>2</td>\n",
       "      <td>...</td>\n",
       "      <td>1095</td>\n",
       "      <td>7</td>\n",
       "      <td>4748</td>\n",
       "      <td>5996</td>\n",
       "      <td>22557</td>\n",
       "      <td>21164</td>\n",
       "      <td>11423</td>\n",
       "      <td>37</td>\n",
       "      <td>57774</td>\n",
       "      <td>2593</td>\n",
       "    </tr>\n",
       "  </tbody>\n",
       "</table>\n",
       "<p>2 rows × 24 columns</p>\n",
       "</div>"
      ],
      "text/plain": [
       "     Airport.Code                                      Airport.Name  \\\n",
       "4406          SLC  Salt Lake City, UT: Salt Lake City International   \n",
       "4407          TPA                    Tampa, FL: Tampa International   \n",
       "\n",
       "     Time.Label  Time.Month Time.Month Name  Time.Year  \\\n",
       "4406    2016/01           1         January       2016   \n",
       "4407    2016/01           1         January       2016   \n",
       "\n",
       "      Statistics.# of Delays.Carrier  Statistics.# of Delays.Late Aircraft  \\\n",
       "4406                             338                                   540   \n",
       "4407                             410                                   342   \n",
       "\n",
       "      Statistics.# of Delays.National Aviation System  \\\n",
       "4406                                              253   \n",
       "4407                                              312   \n",
       "\n",
       "      Statistics.# of Delays.Security  ...  Statistics.Flights.Delayed  \\\n",
       "4406                                3  ...                        1175   \n",
       "4407                                2  ...                        1095   \n",
       "\n",
       "     Statistics.Flights.Diverted  Statistics.Flights.On Time  \\\n",
       "4406                          14                        7426   \n",
       "4407                           7                        4748   \n",
       "\n",
       "      Statistics.Flights.Total  Statistics.Minutes Delayed.Carrier  \\\n",
       "4406                      8699                               32066   \n",
       "4407                      5996                               22557   \n",
       "\n",
       "      Statistics.Minutes Delayed.Late Aircraft  \\\n",
       "4406                                     33682   \n",
       "4407                                     21164   \n",
       "\n",
       "      Statistics.Minutes Delayed.National Aviation System  \\\n",
       "4406                                               8057     \n",
       "4407                                              11423     \n",
       "\n",
       "      Statistics.Minutes Delayed.Security  Statistics.Minutes Delayed.Total  \\\n",
       "4406                                   57                             76978   \n",
       "4407                                   37                             57774   \n",
       "\n",
       "      Statistics.Minutes Delayed.Weather  \n",
       "4406                                3116  \n",
       "4407                                2593  \n",
       "\n",
       "[2 rows x 24 columns]"
      ]
     },
     "execution_count": 201,
     "metadata": {},
     "output_type": "execute_result"
    }
   ],
   "source": [
    "# Look at the last 2 rows of the dataframe\n",
    "\n",
    "df.tail(2)"
   ]
  },
  {
   "cell_type": "code",
   "execution_count": 202,
   "id": "e87824ad-9ff4-487d-8506-00d940083ae0",
   "metadata": {},
   "outputs": [
    {
     "name": "stdout",
     "output_type": "stream",
     "text": [
      "<class 'pandas.core.frame.DataFrame'>\n",
      "RangeIndex: 4408 entries, 0 to 4407\n",
      "Data columns (total 24 columns):\n",
      " #   Column                                               Non-Null Count  Dtype \n",
      "---  ------                                               --------------  ----- \n",
      " 0   Airport.Code                                         4408 non-null   object\n",
      " 1   Airport.Name                                         4408 non-null   object\n",
      " 2   Time.Label                                           4408 non-null   object\n",
      " 3   Time.Month                                           4408 non-null   int64 \n",
      " 4   Time.Month Name                                      4408 non-null   object\n",
      " 5   Time.Year                                            4408 non-null   int64 \n",
      " 6   Statistics.# of Delays.Carrier                       4408 non-null   int64 \n",
      " 7   Statistics.# of Delays.Late Aircraft                 4408 non-null   int64 \n",
      " 8   Statistics.# of Delays.National Aviation System      4408 non-null   int64 \n",
      " 9   Statistics.# of Delays.Security                      4408 non-null   int64 \n",
      " 10  Statistics.# of Delays.Weather                       4408 non-null   int64 \n",
      " 11  Statistics.Carriers.Names                            4408 non-null   object\n",
      " 12  Statistics.Carriers.Total                            4408 non-null   int64 \n",
      " 13  Statistics.Flights.Cancelled                         4408 non-null   int64 \n",
      " 14  Statistics.Flights.Delayed                           4408 non-null   int64 \n",
      " 15  Statistics.Flights.Diverted                          4408 non-null   int64 \n",
      " 16  Statistics.Flights.On Time                           4408 non-null   int64 \n",
      " 17  Statistics.Flights.Total                             4408 non-null   int64 \n",
      " 18  Statistics.Minutes Delayed.Carrier                   4408 non-null   int64 \n",
      " 19  Statistics.Minutes Delayed.Late Aircraft             4408 non-null   int64 \n",
      " 20  Statistics.Minutes Delayed.National Aviation System  4408 non-null   int64 \n",
      " 21  Statistics.Minutes Delayed.Security                  4408 non-null   int64 \n",
      " 22  Statistics.Minutes Delayed.Total                     4408 non-null   int64 \n",
      " 23  Statistics.Minutes Delayed.Weather                   4408 non-null   int64 \n",
      "dtypes: int64(19), object(5)\n",
      "memory usage: 826.6+ KB\n"
     ]
    },
    {
     "data": {
      "text/html": [
       "<div>\n",
       "<style scoped>\n",
       "    .dataframe tbody tr th:only-of-type {\n",
       "        vertical-align: middle;\n",
       "    }\n",
       "\n",
       "    .dataframe tbody tr th {\n",
       "        vertical-align: top;\n",
       "    }\n",
       "\n",
       "    .dataframe thead th {\n",
       "        text-align: right;\n",
       "    }\n",
       "</style>\n",
       "<table border=\"1\" class=\"dataframe\">\n",
       "  <thead>\n",
       "    <tr style=\"text-align: right;\">\n",
       "      <th></th>\n",
       "      <th>Airport.Code</th>\n",
       "      <th>Airport.Name</th>\n",
       "      <th>Time.Label</th>\n",
       "      <th>Time.Month</th>\n",
       "      <th>Time.Month Name</th>\n",
       "      <th>Time.Year</th>\n",
       "      <th>Statistics.# of Delays.Carrier</th>\n",
       "      <th>Statistics.# of Delays.Late Aircraft</th>\n",
       "      <th>Statistics.# of Delays.National Aviation System</th>\n",
       "      <th>Statistics.# of Delays.Security</th>\n",
       "      <th>...</th>\n",
       "      <th>Statistics.Flights.Delayed</th>\n",
       "      <th>Statistics.Flights.Diverted</th>\n",
       "      <th>Statistics.Flights.On Time</th>\n",
       "      <th>Statistics.Flights.Total</th>\n",
       "      <th>Statistics.Minutes Delayed.Carrier</th>\n",
       "      <th>Statistics.Minutes Delayed.Late Aircraft</th>\n",
       "      <th>Statistics.Minutes Delayed.National Aviation System</th>\n",
       "      <th>Statistics.Minutes Delayed.Security</th>\n",
       "      <th>Statistics.Minutes Delayed.Total</th>\n",
       "      <th>Statistics.Minutes Delayed.Weather</th>\n",
       "    </tr>\n",
       "  </thead>\n",
       "  <tbody>\n",
       "    <tr>\n",
       "      <th>count</th>\n",
       "      <td>4408</td>\n",
       "      <td>4408</td>\n",
       "      <td>4408</td>\n",
       "      <td>4408.000000</td>\n",
       "      <td>4408</td>\n",
       "      <td>4408.000000</td>\n",
       "      <td>4408.000000</td>\n",
       "      <td>4408.000000</td>\n",
       "      <td>4408.000000</td>\n",
       "      <td>4408.000000</td>\n",
       "      <td>...</td>\n",
       "      <td>4408.000000</td>\n",
       "      <td>4408.000000</td>\n",
       "      <td>4408.000000</td>\n",
       "      <td>4408.000000</td>\n",
       "      <td>4408.000000</td>\n",
       "      <td>4408.000000</td>\n",
       "      <td>4408.000000</td>\n",
       "      <td>4408.000000</td>\n",
       "      <td>4408.000000</td>\n",
       "      <td>4408.000000</td>\n",
       "    </tr>\n",
       "    <tr>\n",
       "      <th>unique</th>\n",
       "      <td>29</td>\n",
       "      <td>29</td>\n",
       "      <td>152</td>\n",
       "      <td>NaN</td>\n",
       "      <td>12</td>\n",
       "      <td>NaN</td>\n",
       "      <td>NaN</td>\n",
       "      <td>NaN</td>\n",
       "      <td>NaN</td>\n",
       "      <td>NaN</td>\n",
       "      <td>...</td>\n",
       "      <td>NaN</td>\n",
       "      <td>NaN</td>\n",
       "      <td>NaN</td>\n",
       "      <td>NaN</td>\n",
       "      <td>NaN</td>\n",
       "      <td>NaN</td>\n",
       "      <td>NaN</td>\n",
       "      <td>NaN</td>\n",
       "      <td>NaN</td>\n",
       "      <td>NaN</td>\n",
       "    </tr>\n",
       "    <tr>\n",
       "      <th>top</th>\n",
       "      <td>ATL</td>\n",
       "      <td>Atlanta, GA: Hartsfield-Jackson Atlanta Intern...</td>\n",
       "      <td>2003/06</td>\n",
       "      <td>NaN</td>\n",
       "      <td>June</td>\n",
       "      <td>NaN</td>\n",
       "      <td>NaN</td>\n",
       "      <td>NaN</td>\n",
       "      <td>NaN</td>\n",
       "      <td>NaN</td>\n",
       "      <td>...</td>\n",
       "      <td>NaN</td>\n",
       "      <td>NaN</td>\n",
       "      <td>NaN</td>\n",
       "      <td>NaN</td>\n",
       "      <td>NaN</td>\n",
       "      <td>NaN</td>\n",
       "      <td>NaN</td>\n",
       "      <td>NaN</td>\n",
       "      <td>NaN</td>\n",
       "      <td>NaN</td>\n",
       "    </tr>\n",
       "    <tr>\n",
       "      <th>freq</th>\n",
       "      <td>152</td>\n",
       "      <td>152</td>\n",
       "      <td>29</td>\n",
       "      <td>NaN</td>\n",
       "      <td>377</td>\n",
       "      <td>NaN</td>\n",
       "      <td>NaN</td>\n",
       "      <td>NaN</td>\n",
       "      <td>NaN</td>\n",
       "      <td>NaN</td>\n",
       "      <td>...</td>\n",
       "      <td>NaN</td>\n",
       "      <td>NaN</td>\n",
       "      <td>NaN</td>\n",
       "      <td>NaN</td>\n",
       "      <td>NaN</td>\n",
       "      <td>NaN</td>\n",
       "      <td>NaN</td>\n",
       "      <td>NaN</td>\n",
       "      <td>NaN</td>\n",
       "      <td>NaN</td>\n",
       "    </tr>\n",
       "    <tr>\n",
       "      <th>mean</th>\n",
       "      <td>NaN</td>\n",
       "      <td>NaN</td>\n",
       "      <td>NaN</td>\n",
       "      <td>6.578947</td>\n",
       "      <td>NaN</td>\n",
       "      <td>2009.243421</td>\n",
       "      <td>574.632486</td>\n",
       "      <td>789.078947</td>\n",
       "      <td>954.580309</td>\n",
       "      <td>5.575544</td>\n",
       "      <td>...</td>\n",
       "      <td>2402.000454</td>\n",
       "      <td>27.880898</td>\n",
       "      <td>9254.420826</td>\n",
       "      <td>11897.860254</td>\n",
       "      <td>35021.369782</td>\n",
       "      <td>49410.274955</td>\n",
       "      <td>45077.107985</td>\n",
       "      <td>211.769737</td>\n",
       "      <td>135997.535163</td>\n",
       "      <td>6276.982759</td>\n",
       "    </tr>\n",
       "    <tr>\n",
       "      <th>std</th>\n",
       "      <td>NaN</td>\n",
       "      <td>NaN</td>\n",
       "      <td>NaN</td>\n",
       "      <td>3.457890</td>\n",
       "      <td>NaN</td>\n",
       "      <td>3.667475</td>\n",
       "      <td>329.616475</td>\n",
       "      <td>561.798420</td>\n",
       "      <td>921.907801</td>\n",
       "      <td>6.007046</td>\n",
       "      <td>...</td>\n",
       "      <td>1710.947613</td>\n",
       "      <td>36.356399</td>\n",
       "      <td>5337.214211</td>\n",
       "      <td>6861.691876</td>\n",
       "      <td>24327.721037</td>\n",
       "      <td>38750.017050</td>\n",
       "      <td>57636.745683</td>\n",
       "      <td>257.174789</td>\n",
       "      <td>113972.276370</td>\n",
       "      <td>6477.417169</td>\n",
       "    </tr>\n",
       "    <tr>\n",
       "      <th>min</th>\n",
       "      <td>NaN</td>\n",
       "      <td>NaN</td>\n",
       "      <td>NaN</td>\n",
       "      <td>1.000000</td>\n",
       "      <td>NaN</td>\n",
       "      <td>2003.000000</td>\n",
       "      <td>112.000000</td>\n",
       "      <td>86.000000</td>\n",
       "      <td>61.000000</td>\n",
       "      <td>-1.000000</td>\n",
       "      <td>...</td>\n",
       "      <td>283.000000</td>\n",
       "      <td>0.000000</td>\n",
       "      <td>2003.000000</td>\n",
       "      <td>2533.000000</td>\n",
       "      <td>6016.000000</td>\n",
       "      <td>5121.000000</td>\n",
       "      <td>2183.000000</td>\n",
       "      <td>0.000000</td>\n",
       "      <td>14752.000000</td>\n",
       "      <td>46.000000</td>\n",
       "    </tr>\n",
       "    <tr>\n",
       "      <th>25%</th>\n",
       "      <td>NaN</td>\n",
       "      <td>NaN</td>\n",
       "      <td>NaN</td>\n",
       "      <td>4.000000</td>\n",
       "      <td>NaN</td>\n",
       "      <td>2006.000000</td>\n",
       "      <td>358.000000</td>\n",
       "      <td>425.000000</td>\n",
       "      <td>399.000000</td>\n",
       "      <td>2.000000</td>\n",
       "      <td>...</td>\n",
       "      <td>1298.750000</td>\n",
       "      <td>8.000000</td>\n",
       "      <td>5708.750000</td>\n",
       "      <td>7400.000000</td>\n",
       "      <td>19530.750000</td>\n",
       "      <td>25084.250000</td>\n",
       "      <td>14389.000000</td>\n",
       "      <td>65.000000</td>\n",
       "      <td>65444.750000</td>\n",
       "      <td>2310.750000</td>\n",
       "    </tr>\n",
       "    <tr>\n",
       "      <th>50%</th>\n",
       "      <td>NaN</td>\n",
       "      <td>NaN</td>\n",
       "      <td>NaN</td>\n",
       "      <td>7.000000</td>\n",
       "      <td>NaN</td>\n",
       "      <td>2009.000000</td>\n",
       "      <td>476.000000</td>\n",
       "      <td>618.500000</td>\n",
       "      <td>667.500000</td>\n",
       "      <td>4.000000</td>\n",
       "      <td>...</td>\n",
       "      <td>1899.000000</td>\n",
       "      <td>15.000000</td>\n",
       "      <td>7477.000000</td>\n",
       "      <td>9739.500000</td>\n",
       "      <td>27782.000000</td>\n",
       "      <td>37483.000000</td>\n",
       "      <td>25762.000000</td>\n",
       "      <td>141.000000</td>\n",
       "      <td>100711.000000</td>\n",
       "      <td>4298.500000</td>\n",
       "    </tr>\n",
       "    <tr>\n",
       "      <th>75%</th>\n",
       "      <td>NaN</td>\n",
       "      <td>NaN</td>\n",
       "      <td>NaN</td>\n",
       "      <td>10.000000</td>\n",
       "      <td>NaN</td>\n",
       "      <td>2012.000000</td>\n",
       "      <td>692.000000</td>\n",
       "      <td>959.000000</td>\n",
       "      <td>1166.000000</td>\n",
       "      <td>7.000000</td>\n",
       "      <td>...</td>\n",
       "      <td>2950.000000</td>\n",
       "      <td>32.000000</td>\n",
       "      <td>10991.500000</td>\n",
       "      <td>13842.500000</td>\n",
       "      <td>41606.000000</td>\n",
       "      <td>59951.250000</td>\n",
       "      <td>50362.000000</td>\n",
       "      <td>274.000000</td>\n",
       "      <td>164294.750000</td>\n",
       "      <td>7846.000000</td>\n",
       "    </tr>\n",
       "    <tr>\n",
       "      <th>max</th>\n",
       "      <td>NaN</td>\n",
       "      <td>NaN</td>\n",
       "      <td>NaN</td>\n",
       "      <td>12.000000</td>\n",
       "      <td>NaN</td>\n",
       "      <td>2016.000000</td>\n",
       "      <td>3087.000000</td>\n",
       "      <td>4483.000000</td>\n",
       "      <td>9066.000000</td>\n",
       "      <td>94.000000</td>\n",
       "      <td>...</td>\n",
       "      <td>13699.000000</td>\n",
       "      <td>442.000000</td>\n",
       "      <td>31468.000000</td>\n",
       "      <td>38241.000000</td>\n",
       "      <td>220796.000000</td>\n",
       "      <td>345456.000000</td>\n",
       "      <td>602479.000000</td>\n",
       "      <td>4949.000000</td>\n",
       "      <td>989367.000000</td>\n",
       "      <td>76770.000000</td>\n",
       "    </tr>\n",
       "  </tbody>\n",
       "</table>\n",
       "<p>11 rows × 24 columns</p>\n",
       "</div>"
      ],
      "text/plain": [
       "       Airport.Code                                       Airport.Name  \\\n",
       "count          4408                                               4408   \n",
       "unique           29                                                 29   \n",
       "top             ATL  Atlanta, GA: Hartsfield-Jackson Atlanta Intern...   \n",
       "freq            152                                                152   \n",
       "mean            NaN                                                NaN   \n",
       "std             NaN                                                NaN   \n",
       "min             NaN                                                NaN   \n",
       "25%             NaN                                                NaN   \n",
       "50%             NaN                                                NaN   \n",
       "75%             NaN                                                NaN   \n",
       "max             NaN                                                NaN   \n",
       "\n",
       "       Time.Label   Time.Month Time.Month Name    Time.Year  \\\n",
       "count        4408  4408.000000            4408  4408.000000   \n",
       "unique        152          NaN              12          NaN   \n",
       "top       2003/06          NaN            June          NaN   \n",
       "freq           29          NaN             377          NaN   \n",
       "mean          NaN     6.578947             NaN  2009.243421   \n",
       "std           NaN     3.457890             NaN     3.667475   \n",
       "min           NaN     1.000000             NaN  2003.000000   \n",
       "25%           NaN     4.000000             NaN  2006.000000   \n",
       "50%           NaN     7.000000             NaN  2009.000000   \n",
       "75%           NaN    10.000000             NaN  2012.000000   \n",
       "max           NaN    12.000000             NaN  2016.000000   \n",
       "\n",
       "        Statistics.# of Delays.Carrier  Statistics.# of Delays.Late Aircraft  \\\n",
       "count                      4408.000000                           4408.000000   \n",
       "unique                             NaN                                   NaN   \n",
       "top                                NaN                                   NaN   \n",
       "freq                               NaN                                   NaN   \n",
       "mean                        574.632486                            789.078947   \n",
       "std                         329.616475                            561.798420   \n",
       "min                         112.000000                             86.000000   \n",
       "25%                         358.000000                            425.000000   \n",
       "50%                         476.000000                            618.500000   \n",
       "75%                         692.000000                            959.000000   \n",
       "max                        3087.000000                           4483.000000   \n",
       "\n",
       "        Statistics.# of Delays.National Aviation System  \\\n",
       "count                                       4408.000000   \n",
       "unique                                              NaN   \n",
       "top                                                 NaN   \n",
       "freq                                                NaN   \n",
       "mean                                         954.580309   \n",
       "std                                          921.907801   \n",
       "min                                           61.000000   \n",
       "25%                                          399.000000   \n",
       "50%                                          667.500000   \n",
       "75%                                         1166.000000   \n",
       "max                                         9066.000000   \n",
       "\n",
       "        Statistics.# of Delays.Security  ...  Statistics.Flights.Delayed  \\\n",
       "count                       4408.000000  ...                 4408.000000   \n",
       "unique                              NaN  ...                         NaN   \n",
       "top                                 NaN  ...                         NaN   \n",
       "freq                                NaN  ...                         NaN   \n",
       "mean                           5.575544  ...                 2402.000454   \n",
       "std                            6.007046  ...                 1710.947613   \n",
       "min                           -1.000000  ...                  283.000000   \n",
       "25%                            2.000000  ...                 1298.750000   \n",
       "50%                            4.000000  ...                 1899.000000   \n",
       "75%                            7.000000  ...                 2950.000000   \n",
       "max                           94.000000  ...                13699.000000   \n",
       "\n",
       "       Statistics.Flights.Diverted  Statistics.Flights.On Time  \\\n",
       "count                  4408.000000                 4408.000000   \n",
       "unique                         NaN                         NaN   \n",
       "top                            NaN                         NaN   \n",
       "freq                           NaN                         NaN   \n",
       "mean                     27.880898                 9254.420826   \n",
       "std                      36.356399                 5337.214211   \n",
       "min                       0.000000                 2003.000000   \n",
       "25%                       8.000000                 5708.750000   \n",
       "50%                      15.000000                 7477.000000   \n",
       "75%                      32.000000                10991.500000   \n",
       "max                     442.000000                31468.000000   \n",
       "\n",
       "        Statistics.Flights.Total  Statistics.Minutes Delayed.Carrier  \\\n",
       "count                4408.000000                         4408.000000   \n",
       "unique                       NaN                                 NaN   \n",
       "top                          NaN                                 NaN   \n",
       "freq                         NaN                                 NaN   \n",
       "mean                11897.860254                        35021.369782   \n",
       "std                  6861.691876                        24327.721037   \n",
       "min                  2533.000000                         6016.000000   \n",
       "25%                  7400.000000                        19530.750000   \n",
       "50%                  9739.500000                        27782.000000   \n",
       "75%                 13842.500000                        41606.000000   \n",
       "max                 38241.000000                       220796.000000   \n",
       "\n",
       "        Statistics.Minutes Delayed.Late Aircraft  \\\n",
       "count                                4408.000000   \n",
       "unique                                       NaN   \n",
       "top                                          NaN   \n",
       "freq                                         NaN   \n",
       "mean                                49410.274955   \n",
       "std                                 38750.017050   \n",
       "min                                  5121.000000   \n",
       "25%                                 25084.250000   \n",
       "50%                                 37483.000000   \n",
       "75%                                 59951.250000   \n",
       "max                                345456.000000   \n",
       "\n",
       "        Statistics.Minutes Delayed.National Aviation System  \\\n",
       "count                                         4408.000000     \n",
       "unique                                                NaN     \n",
       "top                                                   NaN     \n",
       "freq                                                  NaN     \n",
       "mean                                         45077.107985     \n",
       "std                                          57636.745683     \n",
       "min                                           2183.000000     \n",
       "25%                                          14389.000000     \n",
       "50%                                          25762.000000     \n",
       "75%                                          50362.000000     \n",
       "max                                         602479.000000     \n",
       "\n",
       "        Statistics.Minutes Delayed.Security  Statistics.Minutes Delayed.Total  \\\n",
       "count                           4408.000000                       4408.000000   \n",
       "unique                                  NaN                               NaN   \n",
       "top                                     NaN                               NaN   \n",
       "freq                                    NaN                               NaN   \n",
       "mean                             211.769737                     135997.535163   \n",
       "std                              257.174789                     113972.276370   \n",
       "min                                0.000000                      14752.000000   \n",
       "25%                               65.000000                      65444.750000   \n",
       "50%                              141.000000                     100711.000000   \n",
       "75%                              274.000000                     164294.750000   \n",
       "max                             4949.000000                     989367.000000   \n",
       "\n",
       "        Statistics.Minutes Delayed.Weather  \n",
       "count                          4408.000000  \n",
       "unique                                 NaN  \n",
       "top                                    NaN  \n",
       "freq                                   NaN  \n",
       "mean                           6276.982759  \n",
       "std                            6477.417169  \n",
       "min                              46.000000  \n",
       "25%                            2310.750000  \n",
       "50%                            4298.500000  \n",
       "75%                            7846.000000  \n",
       "max                           76770.000000  \n",
       "\n",
       "[11 rows x 24 columns]"
      ]
     },
     "execution_count": 202,
     "metadata": {},
     "output_type": "execute_result"
    }
   ],
   "source": [
    "# Print out summary statistics about the dataframe\n",
    "\n",
    "df.info()\n",
    "df.describe(include='all')"
   ]
  },
  {
   "cell_type": "code",
   "execution_count": 203,
   "id": "9b5dfabd-61b3-4cda-80d4-7a20444afa25",
   "metadata": {},
   "outputs": [
    {
     "name": "stdout",
     "output_type": "stream",
     "text": [
      "0       ATL\n",
      "1       BOS\n",
      "2       BWI\n",
      "3       CLT\n",
      "4       DCA\n",
      "       ... \n",
      "4403    SAN\n",
      "4404    SEA\n",
      "4405    SFO\n",
      "4406    SLC\n",
      "4407    TPA\n",
      "Name: Airport.Code, Length: 4408, dtype: object\n"
     ]
    }
   ],
   "source": [
    "# Choose a column and print out the column (it's ok if the output is abbreviated)\n",
    "print(df.loc[:,'Airport.Code'])"
   ]
  },
  {
   "cell_type": "code",
   "execution_count": 204,
   "id": "0c5e2c07-0dff-4e78-bbb7-8faef3fdf758",
   "metadata": {},
   "outputs": [
    {
     "data": {
      "text/plain": [
       "<AxesSubplot:>"
      ]
     },
     "execution_count": 204,
     "metadata": {},
     "output_type": "execute_result"
    },
    {
     "data": {
      "image/png": "[encoded data removed]",
      "text/plain": [
       "<Figure size 432x288 with 1 Axes>"
      ]
     },
     "metadata": {
      "needs_background": "light"
     },
     "output_type": "display_data"
    }
   ],
   "source": [
    "# Choose a column that has numeric values and make a line plot of the values\n",
    "\n",
    "a=df.loc[:,'Statistics.Flights.Total']\n",
    "a.plot(x='Statistics.Flights.Total')"
   ]
  },
  {
   "cell_type": "markdown",
   "id": "120226eb",
   "metadata": {},
   "source": [
    "Since there are 4408 values,we are not able to read the line plot clearly"
   ]
  },
  {
   "cell_type": "code",
   "execution_count": 205,
   "id": "6e7c7f92-3b6c-4cd0-a9ef-6356cb4c2ca5",
   "metadata": {},
   "outputs": [
    {
     "name": "stdout",
     "output_type": "stream",
     "text": [
      "0    30060\n",
      "1     9639\n",
      "2     8287\n",
      "3     8670\n",
      "4     6513\n",
      "5    11691\n",
      "6    27628\n",
      "7    11754\n",
      "8    12506\n",
      "9     4662\n",
      "Name: Statistics.Flights.Total, dtype: int64\n"
     ]
    }
   ],
   "source": [
    "# Use \"loc\" to print out the first 10 elements of the plotted column\n",
    "print(df.loc[:9,'Statistics.Flights.Total'])\n"
   ]
  },
  {
   "cell_type": "code",
   "execution_count": 206,
   "id": "3a7b0251-f9e3-4f81-858d-d6c1c2b41e2d",
   "metadata": {},
   "outputs": [
    {
     "name": "stdout",
     "output_type": "stream",
     "text": [
      "                                        Airport.Name  \\\n",
      "0  Atlanta, GA: Hartsfield-Jackson Atlanta Intern...   \n",
      "1                    Boston, MA: Logan International   \n",
      "2  Baltimore, MD: Baltimore/Washington Internatio...   \n",
      "3     Charlotte, NC: Charlotte Douglas International   \n",
      "4  Washington, DC: Ronald Reagan Washington National   \n",
      "5                   Denver, CO: Denver International   \n",
      "6  Dallas/Fort Worth, TX: Dallas/Fort Worth Inter...   \n",
      "7            Detroit, MI: Detroit Metro Wayne County   \n",
      "8           Newark, NJ: Newark Liberty International   \n",
      "9  Fort Lauderdale, FL: Fort Lauderdale-Hollywood...   \n",
      "\n",
      "   Statistics.Carriers.Total  \n",
      "0                         11  \n",
      "1                         14  \n",
      "2                         11  \n",
      "3                         11  \n",
      "4                         13  \n",
      "5                         13  \n",
      "6                         13  \n",
      "7                         11  \n",
      "8                         13  \n",
      "9                         11  \n"
     ]
    }
   ],
   "source": [
    "# Use \"loc\" to print out the first 10 elements of the plotted column\n",
    "# as well as the matching 10 elements of a different column that has interesting text\n",
    "print(df.loc[:9,['Airport.Name','Statistics.Carriers.Total']])\n"
   ]
  },
  {
   "cell_type": "code",
   "execution_count": 207,
   "id": "e2b2a59b-4246-40cc-b5de-728bd678b832",
   "metadata": {},
   "outputs": [
    {
     "data": {
      "text/plain": [
       "<AxesSubplot:xlabel='Airport.Name'>"
      ]
     },
     "execution_count": 207,
     "metadata": {},
     "output_type": "execute_result"
    },
    {
     "data": {
      "image/png": "[encoded data removed]",
      "text/plain": [
       "<Figure size 432x288 with 1 Axes>"
      ]
     },
     "metadata": {
      "needs_background": "light"
     },
     "output_type": "display_data"
    }
   ],
   "source": [
    "# Assign the dataframe values from the previous cell into a new dataframe variable\n",
    "# and make a bar plot with the text values horizontally and the numeric values as the bar heights\n",
    "\n",
    "a=df.loc[:9,['Airport.Name','Statistics.Carriers.Total']]\n",
    "a.plot(kind='bar',x='Airport.Name',y='Statistics.Carriers.Total')"
   ]
  },
  {
   "cell_type": "code",
   "execution_count": 208,
   "id": "46120796-845a-49b3-997f-b44825e375ea",
   "metadata": {},
   "outputs": [
    {
     "data": {
      "text/plain": [
       "<AxesSubplot:ylabel='Airport.Name'>"
      ]
     },
     "execution_count": 208,
     "metadata": {},
     "output_type": "execute_result"
    },
    {
     "data": {
      "image/png": "[encoded data removed]",
      "text/plain": [
       "<Figure size 432x288 with 1 Axes>"
      ]
     },
     "metadata": {
      "needs_background": "light"
     },
     "output_type": "display_data"
    }
   ],
   "source": [
    "# Re-do the plot from the previous cell as a horizontal bar plot\n",
    "\n",
    "a.plot(kind='barh',x='Airport.Name',y='Statistics.Carriers.Total')"
   ]
  },
  {
   "cell_type": "code",
   "execution_count": 209,
   "id": "c8273eab-a2d6-445a-a92d-869375b82428",
   "metadata": {},
   "outputs": [
    {
     "data": {
      "text/plain": [
       "<AxesSubplot:ylabel='Airport.Name'>"
      ]
     },
     "execution_count": 209,
     "metadata": {},
     "output_type": "execute_result"
    },
    {
     "data": {
      "image/png": "[encoded data removed]",
      "text/plain": [
       "<Figure size 576x432 with 1 Axes>"
      ]
     },
     "metadata": {
      "needs_background": "light"
     },
     "output_type": "display_data"
    }
   ],
   "source": [
    "# Re-do the plot from the previous cell\n",
    "# and change at least two aesthetic elements (colors, labels, titles, ...)\n",
    "\n",
    "a.plot(kind='barh',x='Airport.Name',y='Statistics.Carriers.Total',figsize=(8,6),color=['green'])"
   ]
  },
  {
   "cell_type": "markdown",
   "id": "48245e7e-c7b9-43ee-a8e2-d66502b899fc",
   "metadata": {},
   "source": [
    "# Free form section"
   ]
  },
  {
   "cell_type": "markdown",
   "id": "66503e37-f96a-4a25-aaf6-c7d8b9f8cbdd",
   "metadata": {},
   "source": [
    "* Choose another type of plot that interests you from the [pandas.DataFrame.plot documentation](https://pandas.pydata.org/docs/reference/api/pandas.DataFrame.plot.html#) [look at the 'kind' parameter] and make a new plot of your dataset values using the plot type"
   ]
  },
  {
   "cell_type": "code",
   "execution_count": 210,
   "id": "3fa0ce73-b09e-46a6-b1e7-2d68f2696f8d",
   "metadata": {},
   "outputs": [
    {
     "data": {
      "text/plain": [
       "<AxesSubplot:ylabel='Frequency'>"
      ]
     },
     "execution_count": 210,
     "metadata": {},
     "output_type": "execute_result"
    },
    {
     "data": {
      "image/png": "[encoded data removed]",
      "text/plain": [
       "<Figure size 432x288 with 1 Axes>"
      ]
     },
     "metadata": {
      "needs_background": "light"
     },
     "output_type": "display_data"
    }
   ],
   "source": [
    "a.plot(kind='hist',y='Statistics.Carriers.Total')"
   ]
  },
  {
   "cell_type": "markdown",
   "id": "6eb40e90-d302-49d1-a8a3-ed406d9b984d",
   "metadata": {},
   "source": [
    "* Copy some of your analysis from the Week 2 assignment into new cells below\n",
    "* Clean them up if desired, and make sure that you translate them to work with your new pandas dataframe structure here if needed\n",
    "* Create several plots to complement and extend your analysis"
   ]
  },
  {
   "cell_type": "code",
   "execution_count": 219,
   "id": "7d756a6d-3b15-48c0-b4ee-2a8772506dd2",
   "metadata": {},
   "outputs": [
    {
     "data": {
      "text/plain": [
       "<AxesSubplot:>"
      ]
     },
     "execution_count": 219,
     "metadata": {},
     "output_type": "execute_result"
    },
    {
     "data": {
      "image/png": "[encoded data removed]",
      "text/plain": [
       "<Figure size 432x288 with 1 Axes>"
      ]
     },
     "metadata": {
      "needs_background": "light"
     },
     "output_type": "display_data"
    }
   ],
   "source": [
    "b=df.loc[:9,['Statistics.Flights.Cancelled','Statistics.Flights.Delayed','Statistics.Flights.Diverted','Statistics.Flights.On Time','Statistics.Flights.Total']]\n",
    "b\n",
    "b.plot(kind='bar',y=['Statistics.Flights.Cancelled','Statistics.Flights.Delayed','Statistics.Flights.Diverted','Statistics.Flights.On Time','Statistics.Flights.Total'])"
   ]
  },
  {
   "cell_type": "code",
   "execution_count": null,
   "id": "e5eed819",
   "metadata": {},
   "outputs": [],
   "source": []
  },
  {
   "cell_type": "code",
   "execution_count": null,
   "id": "1dcc311b",
   "metadata": {},
   "outputs": [],
   "source": []
  }
 ],
 "metadata": {
  "kernelspec": {
   "display_name": "Python 3 (ipykernel)",
   "language": "python",
   "name": "python3"
  },
  "language_info": {
   "codemirror_mode": {
    "name": "ipython",
    "version": 3
   },
   "file_extension": ".py",
   "mimetype": "text/x-python",
   "name": "python",
   "nbconvert_exporter": "python",
   "pygments_lexer": "ipython3",
   "version": "3.9.7"
  }
 },
 "nbformat": 4,
 "nbformat_minor": 5
}
